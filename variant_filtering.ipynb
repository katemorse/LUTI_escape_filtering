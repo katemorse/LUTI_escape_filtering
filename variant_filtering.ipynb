{
 "cells": [
  {
   "cell_type": "code",
   "execution_count": 1,
   "id": "080fa722",
   "metadata": {},
   "outputs": [],
   "source": [
    "# get variants from VCF that pass GATK hard filters\n",
    "# keep only variants with 95% of reads matching the alt allele\n",
    "\n",
    "def filter_var(vcf_file, bed_file):\n",
    "    vcf = open(vcf_file, 'r')\n",
    "    bed = open(bed_file, 'a')\n",
    "    for line in vcf:\n",
    "        if line.startswith('#'):\n",
    "            continue\n",
    "        else:\n",
    "            line = line.strip().split()\n",
    "            CHR = line[0]\n",
    "            start = int(line[1]) - 1\n",
    "            end = line[1]\n",
    "            counts = line[9]\n",
    "            counts = counts.replace(':','\\t').replace(',', '\\t').strip().split()\n",
    "            alt = int(counts[2])\n",
    "            ref = int(counts[1])\n",
    "            total = alt + ref\n",
    "            if total == 0 :\n",
    "                continue\n",
    "            else: \n",
    "                if line[6] == 'PASS' and (alt / total) > 0.95:\n",
    "                    bed.write('{}\\t{}\\t{}\\n'.format(CHR,start,end))\n",
    "    bed.close()"
   ]
  },
  {
   "cell_type": "code",
   "execution_count": 2,
   "id": "57185358",
   "metadata": {},
   "outputs": [],
   "source": [
    "#option 1: perform filtering on individual files\n",
    "vcf = 'sampleA.vcf' # input your VCF file here\n",
    "bed = 'sampleA_filtered.bed' # desired output BED file name here \n",
    "filter_var(vcf,bed)"
   ]
  },
  {
   "cell_type": "code",
   "execution_count": 3,
   "id": "1debc168",
   "metadata": {},
   "outputs": [],
   "source": [
    "#option 2: iterate through a list of VCF files, 'list.txt' to perform filtering on all files in that list\n",
    "#'list.txt' contains file headers ahead of '.vcf' \n",
    "list = open('list.txt', 'r')\n",
    "for line in list:\n",
    "    line = line.strip().split()\n",
    "    vcf = '{0}.vcf'.format(line[0])\n",
    "    bed = '{0}.filtered.bed'.format(line[0])\n",
    "    filter_var(vcf,bed)"
   ]
  }
 ],
 "metadata": {
  "kernelspec": {
   "display_name": "Python 3 (ipykernel)",
   "language": "python",
   "name": "python3"
  },
  "language_info": {
   "codemirror_mode": {
    "name": "ipython",
    "version": 3
   },
   "file_extension": ".py",
   "mimetype": "text/x-python",
   "name": "python",
   "nbconvert_exporter": "python",
   "pygments_lexer": "ipython3",
   "version": "3.7.11"
  }
 },
 "nbformat": 4,
 "nbformat_minor": 5
}
